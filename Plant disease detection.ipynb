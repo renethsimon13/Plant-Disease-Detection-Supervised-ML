{
 "cells": [
  {
   "cell_type": "code",
   "execution_count": 1,
   "id": "030edec8",
   "metadata": {},
   "outputs": [
    {
     "name": "stdout",
     "output_type": "stream",
     "text": [
      "Number of healthy leaf images in training set 458\n",
      "Number of powder leaf images in training set 430\n",
      "Number of rusty leaf images in training set 434\n",
      "========================================================\n",
      "Number of healthy leaf images in test set 50\n",
      "Number of powder leaf images in test set 50\n",
      "Number of rusty leaf images in test set 50\n",
      "========================================================\n",
      "Number of healthy leaf images in validation set 20\n",
      "Number of powder leaf images in validation set 20\n",
      "Number of rusty leaf images in validation set 20\n"
     ]
    }
   ],
   "source": [
    "import os\n",
    "\n",
    "def total_files(folder_path):\n",
    "    num_files = len([f for f in os.listdir(folder_path) if os.path.isfile(os.path.join(folder_path, f))])\n",
    "    return num_files\n",
    "\n",
    "train_files_healthy = \"C:\\Programming\\Machine learning\\plant images\\Train\\Train\\Healthy\"\n",
    "train_files_powdery = \"C:\\Programming\\Machine learning\\plant images\\Train\\Train\\Powdery\"\n",
    "train_files_rust = \"C:\\Programming\\Machine learning\\plant images\\Train\\Train\\Rust\"\n",
    "\n",
    "test_files_healthy = \"C:\\Programming\\Machine learning\\plant images\\Test\\Test\\Healthy\"\n",
    "test_files_powdery = \"C:\\Programming\\Machine learning\\plant images\\Test\\Test\\Healthy\"\n",
    "test_files_rust = \"C:\\Programming\\Machine learning\\plant images\\Test\\Test\\Rust\"\n",
    "\n",
    "valid_files_healthy = \"C:\\Programming\\Machine learning\\plant images\\Validation\\Validation\\Healthy\"\n",
    "valid_files_powdery = \"C:\\Programming\\Machine learning\\plant images\\Validation\\Validation\\Healthy\"\n",
    "valid_files_rust = \"C:\\Programming\\Machine learning\\plant images\\Validation\\Validation\\Rust\"\n",
    "\n",
    "print(\"Number of healthy leaf images in training set\", total_files(train_files_healthy))\n",
    "print(\"Number of powder leaf images in training set\", total_files(train_files_powdery))\n",
    "print(\"Number of rusty leaf images in training set\", total_files(train_files_rust))\n",
    "\n",
    "print(\"========================================================\")\n",
    "\n",
    "print(\"Number of healthy leaf images in test set\", total_files(test_files_healthy))\n",
    "print(\"Number of powder leaf images in test set\", total_files(test_files_powdery))\n",
    "print(\"Number of rusty leaf images in test set\", total_files(test_files_rust))\n",
    "\n",
    "print(\"========================================================\")\n",
    "\n",
    "print(\"Number of healthy leaf images in validation set\", total_files(valid_files_healthy))\n",
    "print(\"Number of powder leaf images in validation set\", total_files(valid_files_powdery))\n",
    "print(\"Number of rusty leaf images in validation set\", total_files(valid_files_rust))"
   ]
  },
  {
   "cell_type": "code",
   "execution_count": 2,
   "id": "3460f786",
   "metadata": {},
   "outputs": [
    {
     "name": "stdout",
     "output_type": "stream",
     "text": [
      "Found 1322 images belonging to 3 classes.\n",
      "Found 60 images belonging to 3 classes.\n"
     ]
    },
    {
     "name": "stderr",
     "output_type": "stream",
     "text": [
      "C:\\Users\\hp\\anaconda3\\Lib\\site-packages\\keras\\src\\layers\\rnn\\rnn.py:204: UserWarning: Do not pass an `input_shape`/`input_dim` argument to a layer. When using Sequential models, prefer using an `Input(shape)` object as the first layer in the model instead.\n",
      "  super().__init__(**kwargs)\n"
     ]
    },
    {
     "name": "stdout",
     "output_type": "stream",
     "text": [
      "Epoch 1/8\n"
     ]
    },
    {
     "name": "stderr",
     "output_type": "stream",
     "text": [
      "C:\\Users\\hp\\anaconda3\\Lib\\site-packages\\keras\\src\\trainers\\data_adapters\\py_dataset_adapter.py:120: UserWarning: Your `PyDataset` class should call `super().__init__(**kwargs)` in its constructor. `**kwargs` can include `workers`, `use_multiprocessing`, `max_queue_size`. Do not pass these arguments to `fit()`, as they will be ignored.\n",
      "  self._warn_if_super_not_called()\n"
     ]
    },
    {
     "name": "stdout",
     "output_type": "stream",
     "text": [
      "\u001b[1m42/42\u001b[0m \u001b[32m━━━━━━━━━━━━━━━━━━━━\u001b[0m\u001b[37m\u001b[0m \u001b[1m369s\u001b[0m 7s/step - accuracy: 0.3270 - loss: 1.1046 - precision: 0.9612 - recall: 0.0034 - val_accuracy: 0.2667 - val_loss: 1.1236 - val_precision: 0.0000e+00 - val_recall: 0.0000e+00\n",
      "Epoch 2/8\n",
      "\u001b[1m42/42\u001b[0m \u001b[32m━━━━━━━━━━━━━━━━━━━━\u001b[0m\u001b[37m\u001b[0m \u001b[1m337s\u001b[0m 7s/step - accuracy: 0.4327 - loss: 1.0538 - precision: 0.4813 - recall: 0.0500 - val_accuracy: 0.3333 - val_loss: 1.1212 - val_precision: 1.0000 - val_recall: 0.0167\n",
      "Epoch 3/8\n",
      "\u001b[1m42/42\u001b[0m \u001b[32m━━━━━━━━━━━━━━━━━━━━\u001b[0m\u001b[37m\u001b[0m \u001b[1m345s\u001b[0m 7s/step - accuracy: 0.5006 - loss: 1.0202 - precision: 0.6249 - recall: 0.0696 - val_accuracy: 0.3833 - val_loss: 1.1400 - val_precision: 0.5000 - val_recall: 0.0833\n",
      "Epoch 4/8\n",
      "\u001b[1m42/42\u001b[0m \u001b[32m━━━━━━━━━━━━━━━━━━━━\u001b[0m\u001b[37m\u001b[0m \u001b[1m341s\u001b[0m 7s/step - accuracy: 0.4893 - loss: 0.9848 - precision: 0.6025 - recall: 0.2014 - val_accuracy: 0.5167 - val_loss: 1.0400 - val_precision: 0.6429 - val_recall: 0.1500\n",
      "Epoch 5/8\n",
      "\u001b[1m42/42\u001b[0m \u001b[32m━━━━━━━━━━━━━━━━━━━━\u001b[0m\u001b[37m\u001b[0m \u001b[1m347s\u001b[0m 7s/step - accuracy: 0.5154 - loss: 0.9668 - precision: 0.5902 - recall: 0.3044 - val_accuracy: 0.3667 - val_loss: 1.0427 - val_precision: 0.2727 - val_recall: 0.1000\n",
      "Epoch 6/8\n",
      "\u001b[1m42/42\u001b[0m \u001b[32m━━━━━━━━━━━━━━━━━━━━\u001b[0m\u001b[37m\u001b[0m \u001b[1m342s\u001b[0m 7s/step - accuracy: 0.5381 - loss: 0.9474 - precision: 0.6119 - recall: 0.3100 - val_accuracy: 0.5167 - val_loss: 1.0072 - val_precision: 0.6000 - val_recall: 0.4000\n",
      "Epoch 7/8\n",
      "\u001b[1m42/42\u001b[0m \u001b[32m━━━━━━━━━━━━━━━━━━━━\u001b[0m\u001b[37m\u001b[0m \u001b[1m341s\u001b[0m 7s/step - accuracy: 0.5731 - loss: 0.9032 - precision: 0.6312 - recall: 0.4105 - val_accuracy: 0.5667 - val_loss: 0.8899 - val_precision: 0.7333 - val_recall: 0.3667\n",
      "Epoch 8/8\n",
      "\u001b[1m42/42\u001b[0m \u001b[32m━━━━━━━━━━━━━━━━━━━━\u001b[0m\u001b[37m\u001b[0m \u001b[1m350s\u001b[0m 7s/step - accuracy: 0.5935 - loss: 0.8742 - precision: 0.6538 - recall: 0.4168 - val_accuracy: 0.5167 - val_loss: 0.8683 - val_precision: 0.6000 - val_recall: 0.3000\n"
     ]
    }
   ],
   "source": [
    "#LSTM MODEL WITH ADAM OPTIMIZER\n",
    "from tensorflow.keras.preprocessing.image import ImageDataGenerator\n",
    "\n",
    "train_datagen = ImageDataGenerator(rescale=1./255, shear_range=0.2, zoom_range=0.2, horizontal_flip=True)\n",
    "test_datagen = ImageDataGenerator(rescale=1./255)\n",
    "train_generator = train_datagen.flow_from_directory('C:/Programming/Machine learning/plant images/Train/Train',\n",
    "                                                    target_size=(28, 28),  # Adjusted target size\n",
    "                                                    color_mode='grayscale',  # Convert images to grayscale\n",
    "                                                    batch_size=32,\n",
    "                                                    class_mode='categorical')\n",
    "\n",
    "validation_generator = test_datagen.flow_from_directory('C:/Programming/Machine learning/plant images/Validation/Validation',\n",
    "                                                        target_size=(28, 28),  # Adjusted target size\n",
    "                                                        color_mode='grayscale',  # Convert images to grayscale\n",
    "                                                        batch_size=32,\n",
    "                                                        class_mode='categorical')\n",
    "from keras.models import Sequential\n",
    "from keras.layers import LSTM, Flatten, Dense\n",
    "\n",
    "model = Sequential()\n",
    "model.add(LSTM(30, activation='relu', kernel_initializer='he_uniform', input_shape=(28, 28)))\n",
    "model.add(Dense(100, activation='relu', kernel_initializer='he_uniform'))\n",
    "model.add(Dense(3, activation='softmax')) \n",
    "\n",
    "model.compile(optimizer='adam', loss='categorical_crossentropy', metrics=['accuracy','precision', 'recall'])\n",
    "history = model.fit(train_generator,\n",
    "                    batch_size=16,\n",
    "                    epochs=8,\n",
    "                    validation_data=validation_generator,\n",
    "                    validation_batch_size=16\n",
    "                    )"
   ]
  },
  {
   "cell_type": "code",
   "execution_count": 3,
   "id": "bf6d204d",
   "metadata": {},
   "outputs": [
    {
     "name": "stdout",
     "output_type": "stream",
     "text": [
      "Found 1322 images belonging to 3 classes.\n",
      "Found 60 images belonging to 3 classes.\n"
     ]
    },
    {
     "name": "stderr",
     "output_type": "stream",
     "text": [
      "C:\\Users\\hp\\anaconda3\\Lib\\site-packages\\keras\\src\\layers\\rnn\\rnn.py:204: UserWarning: Do not pass an `input_shape`/`input_dim` argument to a layer. When using Sequential models, prefer using an `Input(shape)` object as the first layer in the model instead.\n",
      "  super().__init__(**kwargs)\n"
     ]
    },
    {
     "name": "stdout",
     "output_type": "stream",
     "text": [
      "Epoch 1/8\n",
      "\u001b[1m42/42\u001b[0m \u001b[32m━━━━━━━━━━━━━━━━━━━━\u001b[0m\u001b[37m\u001b[0m \u001b[1m358s\u001b[0m 7s/step - accuracy: 0.3450 - loss: 1.1707 - precision: 0.3047 - recall: 0.0707 - val_accuracy: 0.3333 - val_loss: 1.1579 - val_precision: 0.3333 - val_recall: 0.0167\n",
      "Epoch 2/8\n",
      "\u001b[1m42/42\u001b[0m \u001b[32m━━━━━━━━━━━━━━━━━━━━\u001b[0m\u001b[37m\u001b[0m \u001b[1m232s\u001b[0m 4s/step - accuracy: 0.3854 - loss: 1.0985 - precision: 0.4511 - recall: 0.0640 - val_accuracy: 0.3333 - val_loss: 1.1505 - val_precision: 0.2727 - val_recall: 0.0500\n",
      "Epoch 3/8\n",
      "\u001b[1m42/42\u001b[0m \u001b[32m━━━━━━━━━━━━━━━━━━━━\u001b[0m\u001b[37m\u001b[0m \u001b[1m213s\u001b[0m 4s/step - accuracy: 0.3636 - loss: 1.0887 - precision: 0.5433 - recall: 0.0309 - val_accuracy: 0.3667 - val_loss: 1.1714 - val_precision: 0.2143 - val_recall: 0.0500\n",
      "Epoch 4/8\n",
      "\u001b[1m42/42\u001b[0m \u001b[32m━━━━━━━━━━━━━━━━━━━━\u001b[0m\u001b[37m\u001b[0m \u001b[1m217s\u001b[0m 4s/step - accuracy: 0.3919 - loss: 1.0771 - precision: 0.4955 - recall: 0.0998 - val_accuracy: 0.3833 - val_loss: 1.1520 - val_precision: 0.4615 - val_recall: 0.1000\n",
      "Epoch 5/8\n",
      "\u001b[1m42/42\u001b[0m \u001b[32m━━━━━━━━━━━━━━━━━━━━\u001b[0m\u001b[37m\u001b[0m \u001b[1m208s\u001b[0m 4s/step - accuracy: 0.4394 - loss: 1.0500 - precision: 0.5516 - recall: 0.1146 - val_accuracy: 0.3333 - val_loss: 1.1025 - val_precision: 0.2500 - val_recall: 0.0167\n",
      "Epoch 6/8\n",
      "\u001b[1m42/42\u001b[0m \u001b[32m━━━━━━━━━━━━━━━━━━━━\u001b[0m\u001b[37m\u001b[0m \u001b[1m203s\u001b[0m 4s/step - accuracy: 0.4347 - loss: 1.0376 - precision: 0.5265 - recall: 0.1025 - val_accuracy: 0.3500 - val_loss: 1.1210 - val_precision: 0.2857 - val_recall: 0.0667\n",
      "Epoch 7/8\n",
      "\u001b[1m42/42\u001b[0m \u001b[32m━━━━━━━━━━━━━━━━━━━━\u001b[0m\u001b[37m\u001b[0m \u001b[1m201s\u001b[0m 4s/step - accuracy: 0.4787 - loss: 1.0184 - precision: 0.5720 - recall: 0.1522 - val_accuracy: 0.4167 - val_loss: 1.0802 - val_precision: 0.4444 - val_recall: 0.0667\n",
      "Epoch 8/8\n",
      "\u001b[1m42/42\u001b[0m \u001b[32m━━━━━━━━━━━━━━━━━━━━\u001b[0m\u001b[37m\u001b[0m \u001b[1m203s\u001b[0m 4s/step - accuracy: 0.4670 - loss: 1.0264 - precision: 0.5698 - recall: 0.2039 - val_accuracy: 0.3500 - val_loss: 1.1611 - val_precision: 0.2308 - val_recall: 0.1000\n"
     ]
    }
   ],
   "source": [
    "#LSTM MODEL WITH SGD OPTIMIZER\n",
    "from tensorflow.keras.preprocessing.image import ImageDataGenerator\n",
    "\n",
    "train_datagen = ImageDataGenerator(rescale=1./255, shear_range=0.2, zoom_range=0.2, horizontal_flip=True)\n",
    "test_datagen = ImageDataGenerator(rescale=1./255)\n",
    "train_generator = train_datagen.flow_from_directory('C:/Programming/Machine learning/plant images/Train/Train',\n",
    "                                                    target_size=(28, 28),  # Adjusted target size\n",
    "                                                    color_mode='grayscale',  # Convert images to grayscale\n",
    "                                                    batch_size=32,\n",
    "                                                    class_mode='categorical')\n",
    "\n",
    "validation_generator = test_datagen.flow_from_directory('C:/Programming/Machine learning/plant images/Validation/Validation',\n",
    "                                                        target_size=(28, 28),  # Adjusted target size\n",
    "                                                        color_mode='grayscale',  # Convert images to grayscale\n",
    "                                                        batch_size=32,\n",
    "                                                        class_mode='categorical')\n",
    "from keras.models import Sequential\n",
    "from keras.layers import LSTM, Flatten, Dense\n",
    "\n",
    "model = Sequential()\n",
    "model.add(LSTM(30, activation='relu', kernel_initializer='he_uniform', input_shape=(28, 28)))\n",
    "model.add(Dense(100, activation='relu', kernel_initializer='he_uniform'))\n",
    "model.add(Dense(3, activation='softmax')) \n",
    "\n",
    "from keras.optimizers import SGD\n",
    "opt = SGD(learning_rate=0.01, momentum=0.9)\n",
    "model.compile(optimizer=opt, loss='categorical_crossentropy', metrics=['accuracy','precision', 'recall'])\n",
    "history = model.fit(train_generator,\n",
    "                    batch_size=16,\n",
    "                    epochs=8,\n",
    "                    validation_data=validation_generator,\n",
    "                    validation_batch_size=16\n",
    "                    )"
   ]
  },
  {
   "cell_type": "code",
   "execution_count": 5,
   "id": "7ec95e00",
   "metadata": {},
   "outputs": [
    {
     "name": "stdout",
     "output_type": "stream",
     "text": [
      "Found 1322 images belonging to 3 classes.\n",
      "Found 60 images belonging to 3 classes.\n",
      "Epoch 1/8\n",
      "\u001b[1m42/42\u001b[0m \u001b[32m━━━━━━━━━━━━━━━━━━━━\u001b[0m\u001b[37m\u001b[0m \u001b[1m246s\u001b[0m 5s/step - accuracy: 0.3750 - loss: 1.1304 - precision: 0.4742 - recall: 0.1133 - val_accuracy: 0.5833 - val_loss: 0.9854 - val_precision: 0.0000e+00 - val_recall: 0.0000e+00\n",
      "Epoch 2/8\n",
      "\u001b[1m42/42\u001b[0m \u001b[32m━━━━━━━━━━━━━━━━━━━━\u001b[0m\u001b[37m\u001b[0m \u001b[1m202s\u001b[0m 4s/step - accuracy: 0.5350 - loss: 0.9596 - precision: 0.6072 - recall: 0.2476 - val_accuracy: 0.4333 - val_loss: 2.1004 - val_precision: 0.4545 - val_recall: 0.4167\n",
      "Epoch 3/8\n",
      "\u001b[1m42/42\u001b[0m \u001b[32m━━━━━━━━━━━━━━━━━━━━\u001b[0m\u001b[37m\u001b[0m \u001b[1m197s\u001b[0m 4s/step - accuracy: 0.4779 - loss: 1.1201 - precision: 0.5219 - recall: 0.2258 - val_accuracy: 0.4833 - val_loss: 0.8282 - val_precision: 0.6047 - val_recall: 0.4333\n",
      "Epoch 4/8\n",
      "\u001b[1m42/42\u001b[0m \u001b[32m━━━━━━━━━━━━━━━━━━━━\u001b[0m\u001b[37m\u001b[0m \u001b[1m208s\u001b[0m 4s/step - accuracy: 0.4804 - loss: 0.9620 - precision: 0.6041 - recall: 0.2775 - val_accuracy: 0.3333 - val_loss: 1.0956 - val_precision: 0.0000e+00 - val_recall: 0.0000e+00\n",
      "Epoch 5/8\n",
      "\u001b[1m42/42\u001b[0m \u001b[32m━━━━━━━━━━━━━━━━━━━━\u001b[0m\u001b[37m\u001b[0m \u001b[1m204s\u001b[0m 4s/step - accuracy: 0.3849 - loss: 1.0783 - precision: 0.2844 - recall: 0.0087 - val_accuracy: 0.3333 - val_loss: 1.1037 - val_precision: 0.0000e+00 - val_recall: 0.0000e+00\n",
      "Epoch 6/8\n",
      "\u001b[1m42/42\u001b[0m \u001b[32m━━━━━━━━━━━━━━━━━━━━\u001b[0m\u001b[37m\u001b[0m \u001b[1m206s\u001b[0m 4s/step - accuracy: 0.3197 - loss: 1.0997 - precision: 0.0669 - recall: 3.0303e-04 - val_accuracy: 0.4667 - val_loss: 1.0486 - val_precision: 0.0000e+00 - val_recall: 0.0000e+00\n",
      "Epoch 7/8\n",
      "\u001b[1m42/42\u001b[0m \u001b[32m━━━━━━━━━━━━━━━━━━━━\u001b[0m\u001b[37m\u001b[0m \u001b[1m204s\u001b[0m 4s/step - accuracy: 0.4654 - loss: 1.0459 - precision: 0.4754 - recall: 0.0246 - val_accuracy: 0.4667 - val_loss: 1.0326 - val_precision: 0.2857 - val_recall: 0.0333\n",
      "Epoch 8/8\n",
      "\u001b[1m42/42\u001b[0m \u001b[32m━━━━━━━━━━━━━━━━━━━━\u001b[0m\u001b[37m\u001b[0m \u001b[1m205s\u001b[0m 4s/step - accuracy: 0.5346 - loss: 0.9556 - precision: 0.4973 - recall: 0.1493 - val_accuracy: 0.5833 - val_loss: 0.8372 - val_precision: 0.6977 - val_recall: 0.5000\n"
     ]
    }
   ],
   "source": [
    "#CNN MODEL WITH SGD OPTIMIZER\n",
    "from keras.models import Sequential\n",
    "from keras.layers import Conv2D, MaxPooling2D, Flatten, Dense\n",
    "from tensorflow.keras.preprocessing.image import ImageDataGenerator\n",
    "\n",
    "train_datagen = ImageDataGenerator(rescale=1./255, shear_range=0.2, zoom_range=0.2, horizontal_flip=True)\n",
    "test_datagen = ImageDataGenerator(rescale=1./255)\n",
    "train_generator = train_datagen.flow_from_directory('C:/Programming/Machine learning/plant images/Train/Train',\n",
    "                                                    target_size=(225, 225),  # Adjusted target size\n",
    "                                                    batch_size=32,\n",
    "                                                    class_mode='categorical')\n",
    "\n",
    "validation_generator = test_datagen.flow_from_directory('C:/Programming/Machine learning/plant images/Validation/Validation',\n",
    "                                                       target_size=(225, 225),\n",
    "                                                        batch_size=32,\n",
    "                                                        class_mode='categorical')\n",
    "model = Sequential()\n",
    "model.add(Conv2D(32, (3, 3), input_shape=(225, 225, 3), activation='relu'))  # Ensure channels dimension is last\n",
    "model.add(MaxPooling2D(pool_size=(2, 2)))\n",
    "model.add(Conv2D(64, (3, 3), activation='relu'))\n",
    "model.add(MaxPooling2D(pool_size=(2, 2)))\n",
    "model.add(Flatten())\n",
    "model.add(Dense(64, activation='relu'))\n",
    "model.add(Dense(3, activation='softmax'))\n",
    "from keras.optimizers import SGD\n",
    "\n",
    "# Define the SGD optimizer with specified parameters\n",
    "sgd = SGD(learning_rate=0.01, decay=1e-6, momentum=0.9, nesterov=True)\n",
    "\n",
    "# Compile the model with the SGD optimizer\n",
    "model.compile(optimizer=sgd, loss='categorical_crossentropy', metrics=['accuracy','precision', 'recall'])\n",
    "history = model.fit(train_generator,\n",
    "                    batch_size=16,\n",
    "                    epochs=8,\n",
    "                    validation_data=validation_generator,\n",
    "                    validation_batch_size=16\n",
    "                    )"
   ]
  },
  {
   "cell_type": "code",
   "execution_count": null,
   "id": "d185860d",
   "metadata": {},
   "outputs": [
    {
     "name": "stdout",
     "output_type": "stream",
     "text": [
      "Found 1322 images belonging to 3 classes.\n",
      "Found 60 images belonging to 3 classes.\n",
      "Epoch 1/8\n",
      "\u001b[1m30/42\u001b[0m \u001b[32m━━━━━━━━━━━━━━\u001b[0m\u001b[37m━━━━━━\u001b[0m \u001b[1m6:29:22\u001b[0m 1947s/step - accuracy: 0.3639 - loss: 3.7237 - precision: 0.3291 - recall: 0.1802"
     ]
    }
   ],
   "source": [
    "#CNN MODEL WITH ADAM OPTIMIZER\n",
    "from keras.models import Sequential\n",
    "from keras.layers import Conv2D, MaxPooling2D, Flatten, Dense\n",
    "from tensorflow.keras.preprocessing.image import ImageDataGenerator\n",
    "\n",
    "train_datagen = ImageDataGenerator(rescale=1./255, shear_range=0.2, zoom_range=0.2, horizontal_flip=True)\n",
    "test_datagen = ImageDataGenerator(rescale=1./255)\n",
    "train_generator = train_datagen.flow_from_directory('C:/Programming/Machine learning/plant images/Train/Train',\n",
    "                                                    target_size=(225, 225),  # Adjusted target size\n",
    "                                                    batch_size=32,\n",
    "                                                    class_mode='categorical')\n",
    "\n",
    "validation_generator = test_datagen.flow_from_directory('C:/Programming/Machine learning/plant images/Validation/Validation',\n",
    "                                                       target_size=(225, 225),\n",
    "                                                        batch_size=32,\n",
    "                                                        class_mode='categorical')\n",
    "model = Sequential()\n",
    "model.add(Conv2D(32, (3, 3), input_shape=(225, 225, 3), activation='relu'))  # Ensure channels dimension is last\n",
    "model.add(MaxPooling2D(pool_size=(2, 2)))\n",
    "model.add(Conv2D(64, (3, 3), activation='relu'))\n",
    "model.add(MaxPooling2D(pool_size=(2, 2)))\n",
    "model.add(Flatten())\n",
    "model.add(Dense(64, activation='relu'))\n",
    "model.add(Dense(3, activation='softmax'))\n",
    "\n",
    "model.compile(optimizer='adam', loss='categorical_crossentropy', metrics=['accuracy','precision', 'recall'])\n",
    "history = model.fit(train_generator,\n",
    "                    batch_size=16,\n",
    "                    epochs=8,\n",
    "                    validation_data=validation_generator,\n",
    "                    validation_batch_size=16\n",
    "                    )"
   ]
  },
  {
   "cell_type": "code",
   "execution_count": 7,
   "id": "a9bb2b03",
   "metadata": {},
   "outputs": [
    {
     "name": "stderr",
     "output_type": "stream",
     "text": [
      "WARNING:absl:You are saving your model as an HDF5 file via `model.save()` or `keras.saving.save_model(model)`. This file format is considered legacy. We recommend using instead the native Keras format, e.g. `model.save('my_model.keras')` or `keras.saving.save_model(model, 'my_model.keras')`. \n"
     ]
    }
   ],
   "source": [
    "model.save(\"model.h5\")"
   ]
  },
  {
   "cell_type": "code",
   "execution_count": 8,
   "id": "a2a4b483",
   "metadata": {},
   "outputs": [],
   "source": [
    "\n",
    "from tensorflow.keras.preprocessing.image import load_img, img_to_array\n",
    "import numpy as np\n",
    "\n",
    "def preprocess_image(image_path, target_size=(225, 225)):\n",
    "    img = load_img(image_path, target_size=target_size)\n",
    "    x = img_to_array(img)\n",
    "    x = x.astype('float32') / 255.\n",
    "    x = np.expand_dims(x, axis=0)\n",
    "    return x\n",
    "\n",
    "x = preprocess_image(\"C:\\Programming\\Machine learning\\plant images\\Test\\Test\\Rust\\82add70df6ab2854.jpg\")"
   ]
  },
  {
   "cell_type": "code",
   "execution_count": 9,
   "id": "b6818aae",
   "metadata": {},
   "outputs": [
    {
     "name": "stdout",
     "output_type": "stream",
     "text": [
      "\u001b[1m1/1\u001b[0m \u001b[32m━━━━━━━━━━━━━━━━━━━━\u001b[0m\u001b[37m\u001b[0m \u001b[1m0s\u001b[0m 133ms/step\n"
     ]
    },
    {
     "data": {
      "text/plain": [
       "array([2.2678712e-12, 1.0349616e-12, 1.0000000e+00], dtype=float32)"
      ]
     },
     "execution_count": 9,
     "metadata": {},
     "output_type": "execute_result"
    }
   ],
   "source": [
    "predictions = model.predict(x)\n",
    "predictions[0]"
   ]
  },
  {
   "cell_type": "code",
   "execution_count": 10,
   "id": "59e834ad",
   "metadata": {},
   "outputs": [
    {
     "data": {
      "text/plain": [
       "{0: 'Healthy', 1: 'Powdery', 2: 'Rust'}"
      ]
     },
     "execution_count": 10,
     "metadata": {},
     "output_type": "execute_result"
    }
   ],
   "source": [
    "labels = train_generator.class_indices\n",
    "labels = {v: k for k, v in labels.items()}\n",
    "labels"
   ]
  },
  {
   "cell_type": "code",
   "execution_count": 11,
   "id": "7b5d8598",
   "metadata": {},
   "outputs": [
    {
     "name": "stdout",
     "output_type": "stream",
     "text": [
      "Rust\n"
     ]
    }
   ],
   "source": [
    "predicted_label = labels[np.argmax(predictions)]\n",
    "print(predicted_label)"
   ]
  },
  {
   "cell_type": "code",
   "execution_count": null,
   "id": "9d2359f7",
   "metadata": {},
   "outputs": [],
   "source": [
    "from matplotlib import pyplot as plt\n",
    "from matplotlib.pyplot import figure\n",
    "\n",
    "import seaborn as sns\n",
    "sns.set_theme()\n",
    "sns.set_context(\"poster\")\n",
    "\n",
    "figure(figsize=(25, 25), dpi=100)\n",
    "\n",
    "plt.plot(history.history['accuracy'])\n",
    "plt.plot(history.history['val_accuracy'])\n",
    "plt.title('model accuracy')\n",
    "plt.ylabel('accuracy')\n",
    "plt.xlabel('epoch')\n",
    "plt.legend(['train', 'val'], loc='upper left')\n",
    "plt.show()"
   ]
  }
 ],
 "metadata": {
  "kernelspec": {
   "display_name": "Python 3 (ipykernel)",
   "language": "python",
   "name": "python3"
  },
  "language_info": {
   "codemirror_mode": {
    "name": "ipython",
    "version": 3
   },
   "file_extension": ".py",
   "mimetype": "text/x-python",
   "name": "python",
   "nbconvert_exporter": "python",
   "pygments_lexer": "ipython3",
   "version": "3.11.5"
  }
 },
 "nbformat": 4,
 "nbformat_minor": 5
}
